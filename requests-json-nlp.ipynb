{
 "cells": [
  {
   "cell_type": "markdown",
   "metadata": {
    "editable": true,
    "slideshow": {
     "slide_type": ""
    },
    "tags": []
   },
   "source": [
    "# Web Mining and Applied NLP (44-620)\n",
    "\n",
    "## Requests, JSON, and NLP\n",
    "\n",
    "### Student Name: Uma M Subramanian\n",
    "\n",
    "## Repo link: https://github.com/umams2002/json-sentiment\n",
    "\n",
    "Perform the tasks described in the Markdown cells below.  When you have completed the assignment make sure your code cells have all been run (and have output beneath them) and ensure you have committed and pushed ALL of your changes to your assignment repository.\n",
    "\n",
    "Make sure you have [installed spaCy and its pipeline](https://spacy.io/usage#quickstart) and [spaCyTextBlob](https://spacy.io/universe/project/spacy-textblob)\n",
    "\n",
    "Every question that requires you to write code will have a code cell underneath it; you may either write your entire solution in that cell or write it in a python file (`.py`), then import and run the appropriate code to answer the question.\n",
    "\n",
    "This assignment requires that you write additional files (either JSON or pickle files); make sure to submit those files in your repository as well."
   ]
  },
  {
   "cell_type": "markdown",
   "metadata": {},
   "source": [
    "## Task 0"
   ]
  },
  {
   "cell_type": "code",
   "execution_count": 10,
   "metadata": {},
   "outputs": [
    {
     "name": "stdout",
     "output_type": "stream",
     "text": [
      "All prereqs installed.\n",
      "Package                   Version\n",
      "------------------------- --------------\n",
      "annotated-types           0.6.0\n",
      "anyio                     4.3.0\n",
      "argon2-cffi               23.1.0\n",
      "argon2-cffi-bindings      21.2.0\n",
      "arrow                     1.3.0\n",
      "asttokens                 2.4.1\n",
      "async-lru                 2.0.4\n",
      "attrs                     23.2.0\n",
      "Babel                     2.14.0\n",
      "beautifulsoup4            4.12.3\n",
      "bleach                    6.1.0\n",
      "blis                      0.7.11\n",
      "catalogue                 2.0.10\n",
      "certifi                   2024.2.2\n",
      "cffi                      1.16.0\n",
      "charset-normalizer        3.3.2\n",
      "click                     8.1.7\n",
      "cloudpathlib              0.16.0\n",
      "colorama                  0.4.6\n",
      "comm                      0.2.2\n",
      "confection                0.1.4\n",
      "cymem                     2.0.8\n",
      "debugpy                   1.8.1\n",
      "decorator                 5.1.1\n",
      "defusedxml                0.7.1\n",
      "en-core-web-sm            3.7.1\n",
      "executing                 2.0.1\n",
      "fastjsonschema            2.19.1\n",
      "fqdn                      1.5.1\n",
      "h11                       0.14.0\n",
      "httpcore                  1.0.5\n",
      "httpx                     0.27.0\n",
      "idna                      3.6\n",
      "ipykernel                 6.29.4\n",
      "ipython                   8.23.0\n",
      "isoduration               20.11.0\n",
      "jedi                      0.19.1\n",
      "Jinja2                    3.1.3\n",
      "joblib                    1.3.2\n",
      "json5                     0.9.24\n",
      "jsonpointer               2.4\n",
      "jsonschema                4.21.1\n",
      "jsonschema-specifications 2023.12.1\n",
      "jupyter_client            8.6.1\n",
      "jupyter_core              5.7.2\n",
      "jupyter-events            0.10.0\n",
      "jupyter-lsp               2.2.4\n",
      "jupyter_server            2.13.0\n",
      "jupyter_server_terminals  0.5.3\n",
      "jupyterlab                4.1.5\n",
      "jupyterlab_pygments       0.3.0\n",
      "jupyterlab_server         2.25.4\n",
      "langcodes                 3.3.0\n",
      "MarkupSafe                2.1.5\n",
      "matplotlib-inline         0.1.6\n",
      "mistune                   3.0.2\n",
      "murmurhash                1.0.10\n",
      "nbclient                  0.10.0\n",
      "nbconvert                 7.16.3\n",
      "nbformat                  5.10.3\n",
      "nest-asyncio              1.6.0\n",
      "nltk                      3.8.1\n",
      "notebook_shim             0.2.4\n",
      "numpy                     1.26.4\n",
      "overrides                 7.7.0\n",
      "packaging                 24.0\n",
      "pandocfilters             1.5.1\n",
      "parso                     0.8.3\n",
      "pip                       24.0\n",
      "platformdirs              4.2.0\n",
      "preshed                   3.0.9\n",
      "prometheus_client         0.20.0\n",
      "prompt-toolkit            3.0.43\n",
      "psutil                    5.9.8\n",
      "pure-eval                 0.2.2\n",
      "pycparser                 2.22\n",
      "pydantic                  2.6.4\n",
      "pydantic_core             2.16.3\n",
      "Pygments                  2.17.2\n",
      "python-dateutil           2.9.0.post0\n",
      "python-json-logger        2.0.7\n",
      "pywin32                   306\n",
      "pywinpty                  2.0.13\n",
      "PyYAML                    6.0.1\n",
      "pyzmq                     25.1.2\n",
      "referencing               0.34.0\n",
      "regex                     2023.12.25\n",
      "requests                  2.31.0\n",
      "rfc3339-validator         0.1.4\n",
      "rfc3986-validator         0.1.1\n",
      "rpds-py                   0.18.0\n",
      "Send2Trash                1.8.2\n",
      "setuptools                69.2.0\n",
      "six                       1.16.0\n",
      "smart-open                6.4.0\n",
      "sniffio                   1.3.1\n",
      "soupsieve                 2.5\n",
      "spacy                     3.7.4\n",
      "spacy-legacy              3.0.12\n",
      "spacy-loggers             1.0.5\n",
      "spacytextblob             4.0.0\n",
      "srsly                     2.4.8\n",
      "stack-data                0.6.3\n",
      "terminado                 0.18.1\n",
      "textblob                  0.15.3\n",
      "thinc                     8.2.3\n",
      "tinycss2                  1.2.1\n",
      "tornado                   6.4\n",
      "tqdm                      4.66.2\n",
      "traitlets                 5.14.2\n",
      "typer                     0.9.4\n",
      "types-python-dateutil     2.9.0.20240316\n",
      "typing_extensions         4.10.0\n",
      "uri-template              1.3.0\n",
      "urllib3                   2.2.1\n",
      "wasabi                    1.1.2\n",
      "wcwidth                   0.2.13\n",
      "weasel                    0.3.4\n",
      "webcolors                 1.13\n",
      "webencodings              0.5.1\n",
      "websocket-client          1.7.0\n",
      "wheel                     0.43.0\n"
     ]
    }
   ],
   "source": [
    "import json\n",
    "import pickle\n",
    "\n",
    "import requests\n",
    "import spacy\n",
    "from spacytextblob.spacytextblob import SpacyTextBlob\n",
    "\n",
    "print('All prereqs installed.')\n",
    "!pip list"
   ]
  },
  {
   "cell_type": "markdown",
   "metadata": {},
   "source": [
    "## Task 1"
   ]
  },
  {
   "cell_type": "markdown",
   "metadata": {},
   "source": [
    "1. The following code accesses the [lyrics.ovh](https://lyricsovh.docs.apiary.io/#reference/0/lyrics-of-a-song/search) public api, searches for the lyrics of a song, and stores it in a dictionary object.  Write the resulting json to a file (either a JSON file or a pickle file; you choose). You will read in the contents of this file for future questions so we do not need to frequently access the API."
   ]
  },
  {
   "cell_type": "code",
   "execution_count": 3,
   "metadata": {},
   "outputs": [
    {
     "name": "stdout",
     "output_type": "stream",
     "text": [
      "{'lyrics': \"Paroles de la chanson Birdhouse In Your Soul par They Might Be Giants\\r\\nI'm Your Only Friend\\n\\nI'm Not Your Only Friend\\n\\nBut I'm A Little Glowing Friend\\n\\nBut Really I'm Not Actually Your Friend\\n\\nBut I Am\\n\\nBlue Canary In The Outlet By The Light Switch\\n\\nWho Watches Over You\\n\\nMake A Little Birdhouse In Your Soul\\n\\nNot To Put Too Fine A Point On It\\n\\nSay I'm The Only Bee In Your Bonnet\\n\\nMake A Little Birdhouse In Your Soul\\n\\nI Have A Secret To Tell\\n\\nFrom My Electrical Well\\n\\nIt's A Simple Message And I'm Leaving Out The Whistles And Bells\\n\\nSo The Room Must Listen To Me\\n\\n\\nFilibuster Vigilantly\\n\\nMy Name Is Blue Canary One Note Spelled Lite\\n\\nMy Story's Infinite\\n\\nLike The Longines Symphonette It Doesn't Rest\\n\\nBlue Canary In The Outlet By The Light Switch\\n\\nWho Watches Over You\\n\\nMake A Little Birdhouse In Your Soul\\n\\nNot To Put Too Fine A Point On It\\n\\nSay I'm The Only Bee In Your Bonnet\\n\\nMake A Little Birdhouse In Your Soul\\n\\nI'm Your Only Friend\\n\\nI'm Not Your Only Friend\\n\\nBut I'm A Little Glowing Friend\\n\\nBut Really I'm Not Actually Your Friend\\n\\nBut I Am\\n\\nThere's A Picture Opposite Me\\n\\nOf My Primitive Ancestry\\n\\nWhich Stood On Rocky Shores And Kept The Beaches Shipwreck Free\\n\\n\\nThough I Respect That A Lot\\n\\nI'd Be Fired If That Were My Job\\n\\nAfter Killing Jason Off And Countless Screaming Argonauts\\n\\nBluebird Of Friendliness\\n\\nLike Guardian Angels Its Always Near\\n\\nBlue Canary In The Outlet By The Light Switch\\n\\nWho Watches Over You\\n\\nMake A Little Birdhouse In Your Soul\\n\\nNot To Put Too Fine A Point On It\\n\\nSay I'm The Only Bee In Your Bonnet\\n\\nMake A Little Birdhouse In Your Soul\\n\\n(And While You're At It\\n\\nKeep The Nightlight On Inside The\\n\\nBirdhouse In Your Soul)\\n\\nNot To Put Too Fine A Point On It\\n\\nSay I'm The Only Bee In Your Bonnet\\n\\nMake A Little Birdhouse In Your Soul\\n\\n\\nBlue Canary In The Outlet By The Light Switch (And While You're At It)\\n\\nWho Watches Over You (Keep The Nightlight On Inside The)\\n\\nMake A L\"}\n",
      "JSON data written to song_lyrics.json successfully.\n"
     ]
    }
   ],
   "source": [
    "import requests\n",
    "import json\n",
    "\n",
    "result = json.loads(requests.get('https://api.lyrics.ovh/v1/They Might Be Giants/Birdhouse in your soul').text)\n",
    "with open(\"song_lyrics.txt\", \"w\") as file:\n",
    "    json.dump(result, file)\n",
    "\n",
    "print(result)\n",
    "\n",
    "print(\"JSON data written to song_lyrics.json successfully.\")\n"
   ]
  },
  {
   "cell_type": "markdown",
   "metadata": {},
   "source": [
    "## Task 2"
   ]
  },
  {
   "cell_type": "markdown",
   "metadata": {},
   "source": [
    "2. Read in the contents of your file.  Print the lyrics of the song (not the entire dictionary!) and use spaCyTextBlob to perform sentiment analysis on the lyrics.  Print the polarity score of the sentiment analysis.  Given that the range of the polarity score is `[-1.0,1.0]` which corresponds to how positive or negative the text in question is, do you think the lyrics have a more positive or negative connotaion?  Answer this question in a comment in your code cell."
   ]
  },
  {
   "cell_type": "code",
   "execution_count": 6,
   "metadata": {},
   "outputs": [
    {
     "name": "stdout",
     "output_type": "stream",
     "text": [
      "Lyrics of the song:\n",
      "Paroles de la chanson Birdhouse In Your Soul par They Might Be Giants\n",
      "I'm Your Only Friend\n",
      "\n",
      "I'm Not Your Only Friend\n",
      "\n",
      "But I'm A Little Glowing Friend\n",
      "\n",
      "But Really I'm Not Actually Your Friend\n",
      "\n",
      "But I Am\n",
      "\n",
      "Blue Canary In The Outlet By The Light Switch\n",
      "\n",
      "Who Watches Over You\n",
      "\n",
      "Make A Little Birdhouse In Your Soul\n",
      "\n",
      "Not To Put Too Fine A Point On It\n",
      "\n",
      "Say I'm The Only Bee In Your Bonnet\n",
      "\n",
      "Make A Little Birdhouse In Your Soul\n",
      "\n",
      "I Have A Secret To Tell\n",
      "\n",
      "From My Electrical Well\n",
      "\n",
      "It's A Simple Message And I'm Leaving Out The Whistles And Bells\n",
      "\n",
      "So The Room Must Listen To Me\n",
      "\n",
      "\n",
      "Filibuster Vigilantly\n",
      "\n",
      "My Name Is Blue Canary One Note Spelled Lite\n",
      "\n",
      "My Story's Infinite\n",
      "\n",
      "Like The Longines Symphonette It Doesn't Rest\n",
      "\n",
      "Blue Canary In The Outlet By The Light Switch\n",
      "\n",
      "Who Watches Over You\n",
      "\n",
      "Make A Little Birdhouse In Your Soul\n",
      "\n",
      "Not To Put Too Fine A Point On It\n",
      "\n",
      "Say I'm The Only Bee In Your Bonnet\n",
      "\n",
      "Make A Little Birdhouse In Your Soul\n",
      "\n",
      "I'm Your Only Friend\n",
      "\n",
      "I'm Not Your Only Friend\n",
      "\n",
      "But I'm A Little Glowing Friend\n",
      "\n",
      "But Really I'm Not Actually Your Friend\n",
      "\n",
      "But I Am\n",
      "\n",
      "There's A Picture Opposite Me\n",
      "\n",
      "Of My Primitive Ancestry\n",
      "\n",
      "Which Stood On Rocky Shores And Kept The Beaches Shipwreck Free\n",
      "\n",
      "\n",
      "Though I Respect That A Lot\n",
      "\n",
      "I'd Be Fired If That Were My Job\n",
      "\n",
      "After Killing Jason Off And Countless Screaming Argonauts\n",
      "\n",
      "Bluebird Of Friendliness\n",
      "\n",
      "Like Guardian Angels Its Always Near\n",
      "\n",
      "Blue Canary In The Outlet By The Light Switch\n",
      "\n",
      "Who Watches Over You\n",
      "\n",
      "Make A Little Birdhouse In Your Soul\n",
      "\n",
      "Not To Put Too Fine A Point On It\n",
      "\n",
      "Say I'm The Only Bee In Your Bonnet\n",
      "\n",
      "Make A Little Birdhouse In Your Soul\n",
      "\n",
      "(And While You're At It\n",
      "\n",
      "Keep The Nightlight On Inside The\n",
      "\n",
      "Birdhouse In Your Soul)\n",
      "\n",
      "Not To Put Too Fine A Point On It\n",
      "\n",
      "Say I'm The Only Bee In Your Bonnet\n",
      "\n",
      "Make A Little Birdhouse In Your Soul\n",
      "\n",
      "\n",
      "Blue Canary In The Outlet By The Light Switch (And While You're At It)\n",
      "\n",
      "Who Watches Over You (Keep The Nightlight On Inside The)\n",
      "\n",
      "Make A L\n",
      "Polarity score: 0.04418859649122807\n",
      "The lyrics have a more positive connotation.\n"
     ]
    }
   ],
   "source": [
    "import json\n",
    "import spacy\n",
    "from spacytextblob.spacytextblob import SpacyTextBlob\n",
    "\n",
    "\n",
    "nlp = spacy.load(\"en_core_web_sm\")\n",
    "nlp.add_pipe('spacytextblob')\n",
    "\n",
    "with open(\"song_lyrics.json\", \"r\") as file:\n",
    "    data = json.load(file)\n",
    "    lyrics = data['lyrics']\n",
    "\n",
    "print(\"Lyrics of the song:\")\n",
    "print(lyrics)\n",
    "\n",
    "doc = nlp(lyrics)\n",
    "polarity_score = doc._.polarity\n",
    "\n",
    "print(\"Polarity score:\", polarity_score)\n",
    "\n",
    "# Based on the polarity score, determine whether the lyrics have a more positive or negative connotation\n",
    "# If the polarity score is greater than 0, it's more positive; if less than 0, it's more negative\n",
    "if polarity_score > 0:\n",
    "    print(\"The lyrics have a more positive connotation.\")\n",
    "elif polarity_score < 0:\n",
    "    print(\"The lyrics have a more negative connotation.\")\n",
    "else:\n",
    "    print(\"The lyrics are neutral.\")"
   ]
  },
  {
   "cell_type": "markdown",
   "metadata": {},
   "source": [
    "## Task 3"
   ]
  },
  {
   "cell_type": "markdown",
   "metadata": {},
   "source": [
    "3. Write a function that takes an artist, song, and filename, accesses the lyrics.ovh api to get the song lyrics, and writes the results to the specified filename.  Test this function by getting the lyrics to any four songs of your choice and storing them in different files."
   ]
  },
  {
   "cell_type": "code",
   "execution_count": 7,
   "metadata": {},
   "outputs": [
    {
     "name": "stdout",
     "output_type": "stream",
     "text": [
      "Lyrics of the song 'Yellow' by 'Coldplay' have been written to yellow_lyrics.txt successfully.\n",
      "Lyrics of the song 'Hey Jude' by 'The Beatles' have been written to hey_jude_lyrics.txt successfully.\n",
      "Lyrics of the song 'Bohemian Rhapsody' by 'Queen' have been written to bohemian_rhapsody_lyrics.txt successfully.\n",
      "Lyrics of the song 'Shape of You' by 'Ed Sheeran' have been written to shape_of_you_lyrics.txt successfully.\n"
     ]
    }
   ],
   "source": [
    "import requests\n",
    "import json\n",
    "\n",
    "def get_song_lyrics(artist, song, filename):\n",
    "    result = json.loads(requests.get(f'https://api.lyrics.ovh/v1/{artist}/{song}').text)\n",
    "\n",
    "    \n",
    "    if 'lyrics' in result:\n",
    "        with open(filename, \"w\") as file:\n",
    "            file.write(result['lyrics'])\n",
    "        print(f\"Lyrics of the song '{song}' by '{artist}' have been written to {filename} successfully.\")\n",
    "    else:\n",
    "        print(\"Failed to retrieve lyrics.\")\n",
    "\n",
    "get_song_lyrics(\"Coldplay\", \"Yellow\", \"yellow_lyrics.txt\")\n",
    "get_song_lyrics(\"The Beatles\", \"Hey Jude\", \"hey_jude_lyrics.txt\")\n",
    "get_song_lyrics(\"Queen\", \"Bohemian Rhapsody\", \"bohemian_rhapsody_lyrics.txt\")\n",
    "get_song_lyrics(\"Ed Sheeran\", \"Shape of You\", \"shape_of_you_lyrics.txt\")\n"
   ]
  },
  {
   "cell_type": "markdown",
   "metadata": {},
   "source": [
    "## Task 4"
   ]
  },
  {
   "cell_type": "markdown",
   "metadata": {},
   "source": [
    "4. Write a function that takes the name of a file that contains song lyrics, loads the file, performs sentiment analysis, and returns the polarity score.  Use this function to print the polarity scores (with the name of the song) of the three files you created in question 3.  Does the reported polarity match your understanding of the song's lyrics? Why or why not do you think that might be?  Answer the questions in either a comment in the code cell or a markdown cell under the code cell."
   ]
  },
  {
   "cell_type": "code",
   "execution_count": 9,
   "metadata": {},
   "outputs": [
    {
     "name": "stdout",
     "output_type": "stream",
     "text": [
      "Polarity score of 'yellow_lyrics.txt': 0.22435897435897442\n",
      "Polarity score of 'hey_jude_lyrics.txt': 0.0629340277777778\n",
      "Polarity score of 'bohemian_rhapsody_lyrics.txt': -0.0029495701058200783\n"
     ]
    }
   ],
   "source": [
    "import spacy\n",
    "from spacytextblob.spacytextblob import SpacyTextBlob\n",
    "\n",
    "def analyze_sentiment(filename):\n",
    "    nlp = spacy.load(\"en_core_web_sm\")\n",
    "    nlp.add_pipe('spacytextblob')\n",
    "    \n",
    "    with open(filename, \"r\") as file:\n",
    "        lyrics = file.read()\n",
    "    \n",
    "    doc = nlp(lyrics)\n",
    "    polarity_score = doc._.polarity\n",
    "\n",
    "    return polarity_score\n",
    "\n",
    "files = [\"yellow_lyrics.txt\", \"hey_jude_lyrics.txt\", \"bohemian_rhapsody_lyrics.txt\"]\n",
    "\n",
    "for file in files:\n",
    "    polarity_score = analyze_sentiment(file)\n",
    "    print(f\"Polarity score of '{file}': {polarity_score}\")"
   ]
  }
 ],
 "metadata": {
  "kernelspec": {
   "display_name": "Python 3 (ipykernel)",
   "language": "python",
   "name": "python3"
  },
  "language_info": {
   "codemirror_mode": {
    "name": "ipython",
    "version": 3
   },
   "file_extension": ".py",
   "mimetype": "text/x-python",
   "name": "python",
   "nbconvert_exporter": "python",
   "pygments_lexer": "ipython3",
   "version": "3.11.8"
  }
 },
 "nbformat": 4,
 "nbformat_minor": 4
}
